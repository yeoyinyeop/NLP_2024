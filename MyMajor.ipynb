{
  "nbformat": 4,
  "nbformat_minor": 0,
  "metadata": {
    "colab": {
      "provenance": [],
      "authorship_tag": "ABX9TyMbS+naVqAbpz3PP0MPnOU/",
      "include_colab_link": true
    },
    "kernelspec": {
      "name": "python3",
      "display_name": "Python 3"
    },
    "language_info": {
      "name": "python"
    }
  },
  "cells": [
    {
      "cell_type": "markdown",
      "metadata": {
        "id": "view-in-github",
        "colab_type": "text"
      },
      "source": [
        "<a href=\"https://colab.research.google.com/github/yeoyinyeop/NLP_2024/blob/main/MyMajor.ipynb\" target=\"_parent\"><img src=\"https://colab.research.google.com/assets/colab-badge.svg\" alt=\"Open In Colab\"/></a>"
      ]
    },
    {
      "cell_type": "markdown",
      "source": [
        "\n",
        "\n",
        "# 🌸**<font color = 'pink'>Japanese Language**</font> <font color = 'white'>and</font> **<font color = 'pink'>Literature**\n",
        "\n",
        "# **<font color = red>1.Department Overview**</font>\n",
        "\n",
        "- ##  About what we <font color = red>**learn**</font>\n",
        "\n",
        "* ## University major career ([guide](https://www.youtube.com/watch?v=ptEE2LHpZbA))\n",
        "\n"
      ],
      "metadata": {
        "id": "KGhqLUzu2qqT"
      }
    }
  ]
}