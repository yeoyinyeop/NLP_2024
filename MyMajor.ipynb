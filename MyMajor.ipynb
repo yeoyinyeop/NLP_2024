{
  "nbformat": 4,
  "nbformat_minor": 0,
  "metadata": {
    "colab": {
      "provenance": [],
      "authorship_tag": "ABX9TyOcm/WscSIVSBw0qTSxi0b7",
      "include_colab_link": true
    },
    "kernelspec": {
      "name": "python3",
      "display_name": "Python 3"
    },
    "language_info": {
      "name": "python"
    }
  },
  "cells": [
    {
      "cell_type": "markdown",
      "metadata": {
        "id": "view-in-github",
        "colab_type": "text"
      },
      "source": [
        "<a href=\"https://colab.research.google.com/github/yeoyinyeop/NLP_2024/blob/main/MyMajor.ipynb\" target=\"_parent\"><img src=\"https://colab.research.google.com/assets/colab-badge.svg\" alt=\"Open In Colab\"/></a>"
      ]
    },
    {
      "cell_type": "markdown",
      "source": [
        "\n",
        "\n",
        "# 🌸**<font color = 'pink'>Japanese Language**</font> <font color = 'white'>and</font> **<font color = 'pink'>Literature**\n",
        "\n",
        "## **1.Department Overview**\n",
        "\n",
        "## - about what we learn\n"
      ],
      "metadata": {
        "id": "KGhqLUzu2qqT"
      }
    }
  ]
}