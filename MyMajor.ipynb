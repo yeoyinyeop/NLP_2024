{
  "nbformat": 4,
  "nbformat_minor": 0,
  "metadata": {
    "colab": {
      "provenance": [],
      "authorship_tag": "ABX9TyOmZlLq5voikxwiOwpmqo7c",
      "include_colab_link": true
    },
    "kernelspec": {
      "name": "python3",
      "display_name": "Python 3"
    },
    "language_info": {
      "name": "python"
    }
  },
  "cells": [
    {
      "cell_type": "markdown",
      "metadata": {
        "id": "view-in-github",
        "colab_type": "text"
      },
      "source": [
        "<a href=\"https://colab.research.google.com/github/yeoyinyeop/NLP_2024/blob/main/MyMajor.ipynb\" target=\"_parent\"><img src=\"https://colab.research.google.com/assets/colab-badge.svg\" alt=\"Open In Colab\"/></a>"
      ]
    },
    {
      "cell_type": "markdown",
      "source": [
        "\n",
        "# 🌸**<font color = 'pink'>Japanese Language**</font> and **<font color = 'pink'>Literature**\n",
        "\n",
        "# **<font color = red>1. Department Overview**</font>\n",
        "\n",
        "- ##  About what we [**learn**](https://www.youtube.com/watch?v=fX2-PmuyCCk)\n",
        "\n",
        "# **<font color = red>2. Department characteristics**\n",
        "\n",
        "- ## We have a lot of <font color = grey>**Exchanges**</font> with Japan\n",
        "- ## <font color = grey> **Benefits** </font> from the perspective of Northeast Asian relations\n",
        "\n",
        "# **<font color = red>3. Career exploration activities**\n",
        "\n",
        "- ## Watching Japanese content is <font color = grey> helpful.</font>\n",
        "\n",
        "- ## Acquire <font color = grey> culture and language\n",
        "\n",
        "# <font color = red>**4. Types of Certifications**\n",
        "\n",
        "- ## [JLPT](https://www.jlpt.or.kr/html/intro.html)\n",
        "\n",
        "- ## [JPT](https://www.jpt.co.kr/)\n",
        "\n",
        "# <font color = red>**5. related occupation**\n",
        "\n",
        "- ## Trade manager, journalist (reporter, PD, announcer, etc.), travel guide, humanities researcher, writer, publication planner, hotel manager\n",
        "\n",
        "\n",
        "# <font color = red>**6. University major career guide**\n",
        "\n",
        "- ## [Video Link](https://www.youtube.com/watch?v=ptEE2LHpZbA)\n",
        "\n",
        "\n",
        "\n",
        "\n",
        "\n",
        "# 🌸**<font color = 'pink'>Japanese Language**</font> and **<font color = 'pink'>Literature**\n",
        "\n",
        "# **<font color = red>1. Department Overview**</font>\n",
        "\n",
        "- ##  About what we [**learn**](https://www.youtube.com/watch?v=fX2-PmuyCCk)\n",
        "\n",
        "# **<font color = red>2. Department characteristics**\n",
        "\n",
        "- ## We have a lot of <font color = grey>**Exchanges**</font> with Japan\n",
        "- ## <font color = grey> **Benefits** </font> from the perspective of Northeast Asian relations\n"
      ],
      "metadata": {
        "id": "KGhqLUzu2qqT"
      }
    },
    {
      "cell_type": "code",
      "source": [],
      "metadata": {
        "id": "TtvF78ZAqNeF"
      },
      "execution_count": null,
      "outputs": []
    }
  ]
}